{
 "cells": [
  {
   "cell_type": "markdown",
   "id": "fedeca9e-e431-4192-b702-7bef1bc503b6",
   "metadata": {},
   "source": [
    "# Data Science Tools and Ecosystem"
   ]
  },
  {
   "cell_type": "markdown",
   "id": "be960824-66fc-41a4-8f62-57025a5ed3ab",
   "metadata": {},
   "source": [
    "# In this notebook, Data Science Tools and Ecosystem are summarized."
   ]
  },
  {
   "cell_type": "markdown",
   "id": "60a88a37-7e43-4151-978d-f69d5d5d706d",
   "metadata": {},
   "source": [
    "**Objectives:**\n",
    "-List popular languages for data science\n",
    "-List commonly used libraries by data scientists\n",
    "-write a an arithmetic expression in python\n",
    "-write a code to convert a number in minutes to hours"
   ]
  },
  {
   "cell_type": "markdown",
   "id": "1f4edd0a-7393-42df-9496-a893e51427f9",
   "metadata": {},
   "source": [
    "# Some of the popular languages that Data Scientists use are:\n",
    "    1. Python\n",
    "    2. R\n",
    "    3. SQL"
   ]
  },
  {
   "cell_type": "markdown",
   "id": "06dc058c-94d0-479e-869c-a1ed4989b321",
   "metadata": {},
   "source": [
    "# Some of the commonly used libraries used by Data Scientists include:\n",
    "    1.Pandas\n",
    "    2.Matplotlib\n",
    "    3.Scikit-learn\n",
    "    4.NLTK\n",
    "    SciPy"
   ]
  },
  {
   "cell_type": "markdown",
   "id": "21e838b9-d148-484b-b645-e5d7e407a233",
   "metadata": {},
   "source": [
    "|Data Science Tools|\n",
    "|:----------------:|\n",
    "|Jupyter Notebook|\n",
    "|RStudio|\n",
    "|Apache Zeppelin|"
   ]
  },
  {
   "cell_type": "markdown",
   "id": "639bcf3f-5930-479f-9948-dccad2ed72f0",
   "metadata": {},
   "source": [
    "### Below are a few examples of evaluating arithmetic expressions in Python"
   ]
  },
  {
   "cell_type": "code",
   "execution_count": 1,
   "id": "f8349dba-00ab-4ebe-9198-5587c3cc28ff",
   "metadata": {},
   "outputs": [],
   "source": [
    "# This a simple arithmetic expression to multiply then add integers."
   ]
  },
  {
   "cell_type": "code",
   "execution_count": 2,
   "id": "2387fe76-d374-4ce2-8e39-5a4d14eb51b5",
   "metadata": {},
   "outputs": [
    {
     "name": "stdout",
     "output_type": "stream",
     "text": [
      "17\n"
     ]
    }
   ],
   "source": [
    "print((3*4)+5)"
   ]
  },
  {
   "cell_type": "code",
   "execution_count": null,
   "id": "c5fe90d7-3476-4694-96c5-d50d7c8d2da5",
   "metadata": {},
   "outputs": [],
   "source": [
    "# This will convert 200 minutes to hours by diving by 60. "
   ]
  },
  {
   "cell_type": "code",
   "execution_count": 3,
   "id": "31c61f81-b129-4872-bd47-62d2a8e60e07",
   "metadata": {},
   "outputs": [
    {
     "name": "stdout",
     "output_type": "stream",
     "text": [
      "3.3333333333333335\n"
     ]
    }
   ],
   "source": [
    "print(200/60)"
   ]
  },
  {
   "cell_type": "markdown",
   "id": "0130b69a-e7be-4ff3-93d3-45584994cb9a",
   "metadata": {},
   "source": [
    "## Author\n",
    "Punarvasu Sharma"
   ]
  },
  {
   "cell_type": "code",
   "execution_count": null,
   "id": "445fd117-de54-4788-b407-b031a5386cbc",
   "metadata": {},
   "outputs": [],
   "source": []
  }
 ],
 "metadata": {
  "kernelspec": {
   "display_name": "Python 3 (ipykernel)",
   "language": "python",
   "name": "python3"
  },
  "language_info": {
   "codemirror_mode": {
    "name": "ipython",
    "version": 3
   },
   "file_extension": ".py",
   "mimetype": "text/x-python",
   "name": "python",
   "nbconvert_exporter": "python",
   "pygments_lexer": "ipython3",
   "version": "3.11.9"
  }
 },
 "nbformat": 4,
 "nbformat_minor": 5
}
